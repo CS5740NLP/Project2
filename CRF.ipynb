{
 "cells": [
  {
   "cell_type": "code",
   "execution_count": 16,
   "metadata": {
    "collapsed": false,
    "deletable": true,
    "editable": true
   },
   "outputs": [
    {
     "name": "stdout",
     "output_type": "stream",
     "text": [
      "0.19.0\n"
     ]
    }
   ],
   "source": [
    "from itertools import chain\n",
    "import nltk\n",
    "from sklearn.metrics import classification_report, confusion_matrix\n",
    "from sklearn.preprocessing import LabelBinarizer\n",
    "import sklearn\n",
    "import pycrfsuite\n",
    "\n",
    "print(sklearn.__version__)"
   ]
  },
  {
   "cell_type": "code",
   "execution_count": 17,
   "metadata": {
    "collapsed": true,
    "deletable": true,
    "editable": true
   },
   "outputs": [],
   "source": [
    "import csv\n",
    "txt = 'train.txt'\n",
    "with open(txt, 'r') as file:\n",
    "    data = file.readlines()\n",
    "validation_len = len(data)/5\n",
    "validation_set = data[0:validation_len]\n",
    "train_set = data[validation_len:]"
   ]
  },
  {
   "cell_type": "code",
   "execution_count": 177,
   "metadata": {
    "collapsed": false
   },
   "outputs": [],
   "source": [
    "def extractShape(word,name):\n",
    "    shape=name\n",
    "    if word[0].isupper():\n",
    "        shape += 'Xx'\n",
    "    if '-' in word:\n",
    "        index = word.index('-')\n",
    "        shape += '-'\n",
    "        if index+1<len(word) and word[index+1].isupper():\n",
    "            shape += 'X'\n",
    "        else: shape += 'x'\n",
    "        if index+2<len(word):\n",
    "            shape += 'x'\n",
    "    return shape"
   ]
  },
  {
   "cell_type": "code",
   "execution_count": 178,
   "metadata": {
    "collapsed": true
   },
   "outputs": [],
   "source": [
    "def extractSufPre(word,maxlen):\n",
    "    features = []\n",
    "    length = len(word)\n",
    "    maxlen = max(length,maxlen)\n",
    "    for i in range(1,maxlen+1):\n",
    "        features.append(word[:i])\n",
    "        features.append(word[-i:])\n",
    "    return features"
   ]
  },
  {
   "cell_type": "code",
   "execution_count": 219,
   "metadata": {
    "collapsed": true
   },
   "outputs": [],
   "source": [
    "def extractHypen(word,name):\n",
    "    features = []\n",
    "    if '-' in word:\n",
    "        features.append(name+'hyphen')\n",
    "        index = word.index('-')\n",
    "        features.append(name+word[:index])\n",
    "        features.append(name+word[index:])\n",
    "    return features"
   ]
  },
  {
   "cell_type": "code",
   "execution_count": 220,
   "metadata": {
    "collapsed": true
   },
   "outputs": [],
   "source": [
    "def numberGen(word):\n",
    "    result=''\n",
    "    for char in word:\n",
    "        if char.isdigit():\n",
    "            result +='D'\n",
    "        else:\n",
    "            result +=char\n",
    "    return result"
   ]
  },
  {
   "cell_type": "code",
   "execution_count": 260,
   "metadata": {
    "collapsed": false,
    "deletable": true,
    "editable": true
   },
   "outputs": [],
   "source": [
    "# Extract features from words. \n",
    "def word2features(word_line,pos_line,i):\n",
    "    word = word_line[i]\n",
    "    postag = pos_line[i]\n",
    "    features = [\n",
    "        'word.lower=' + word.lower(),\n",
    "        'word.isupper=%s' % word.isupper(),\n",
    "        'word.istitle=%s' % word.istitle(),\n",
    "        'word.isdigit=%s' % word.isdigit(),\n",
    "        'postag=' + postag,\n",
    "        'postag[:2]=' + postag[:2],\n",
    "        'shape='+extractShape(word,'word'),\n",
    "        'numGen'+numberGen(word),\n",
    "    ]\n",
    "    features.extend(extractSufPre(word,6))\n",
    "    features.extend(extractHypen(word,'word'))\n",
    "    if i > 0:\n",
    "        word1 = word_line[i-1]\n",
    "        postag1 = pos_line[i-1]\n",
    "        features.extend([\n",
    "            '-1:word.lower=' + word1.lower(),\n",
    "            '-1:word.istitle=%s' % word1.istitle(),\n",
    "            '-1:word.isupper=%s' % word1.isupper(),\n",
    "            '-1:postag=' + postag1,\n",
    "            '-1:postag[:2]=' + postag1[:2],\n",
    "            '-1:shape='+extractShape(word1,'-1word'),\n",
    "            'numGen'+numberGen(word1),\n",
    "            '-1:Cap%s'%word1[0].isupper()\n",
    "\n",
    "        ])\n",
    "        features.extend(extractHypen(word1,'-1word'))\n",
    "\n",
    "    else:\n",
    "        features.append('BOS')\n",
    "        \n",
    "    if i < len(word_line)-1:\n",
    "        word1 = word_line[i+1]\n",
    "        postag1 = pos_line[i+1]\n",
    "        features.extend([\n",
    "            '+1:word.lower=' + word1.lower(),\n",
    "            '+1:word.istitle=%s' % word1.istitle(),\n",
    "            '+1:word.isupper=%s' % word1.isupper(),\n",
    "            '+1:postag=' + postag1,\n",
    "            '+1:postag[:2]=' + postag1[:2],\n",
    "            '+1:shape='+extractShape(word1,'+1word'),\n",
    "            'numGen'+numberGen(word1),\n",
    "            '+1:Cap%s' %word1[0].isupper()            \n",
    "        ])\n",
    "        features.extend(extractHypen(word1,'+1word'))\n",
    "    else:\n",
    "        features.append('EOS')\n",
    "                \n",
    "    return features   "
   ]
  },
  {
   "cell_type": "code",
   "execution_count": 261,
   "metadata": {
    "collapsed": false,
    "deletable": true,
    "editable": true
   },
   "outputs": [],
   "source": [
    "# contruct train and test set for trainer\n",
    "def data2features(data):\n",
    "    X = []\n",
    "    Y = []\n",
    "    for i in range(0,len(data),3):\n",
    "        word_line = data[i].split()\n",
    "        pos_line = data[i+1].split()\n",
    "        NE_line = data[i+2].split()\n",
    "\n",
    "        feature = [word2features(word_line,pos_line,i) for i in range(len(word_line))]\n",
    "        label = NE_line\n",
    "\n",
    "        X.append(feature)\n",
    "        Y.append(label)\n",
    "    return X,Y"
   ]
  },
  {
   "cell_type": "code",
   "execution_count": 262,
   "metadata": {
    "collapsed": false,
    "deletable": true,
    "editable": true
   },
   "outputs": [],
   "source": [
    "X_train,y_train = data2features(train_set)\n",
    "X_test,y_test = data2features(validation_set)\n",
    "\n",
    "trainer = pycrfsuite.Trainer(verbose=False)\n",
    "\n",
    "for xseq, yseq in zip(X_train, y_train):\n",
    "    trainer.append(xseq, yseq)"
   ]
  },
  {
   "cell_type": "code",
   "execution_count": 275,
   "metadata": {
    "collapsed": false
   },
   "outputs": [
    {
     "data": {
      "text/plain": [
       "{'c1': 1.0,\n",
       " 'c2': 0.001,\n",
       " 'delta': 1e-05,\n",
       " 'epsilon': 1e-05,\n",
       " 'feature.minfreq': 0.0,\n",
       " 'feature.possible_states': False,\n",
       " 'feature.possible_transitions': True,\n",
       " 'linesearch': 'MoreThuente',\n",
       " 'max_iterations': 50,\n",
       " 'max_linesearch': 20,\n",
       " 'num_memories': 6,\n",
       " 'period': 10}"
      ]
     },
     "execution_count": 275,
     "metadata": {},
     "output_type": "execute_result"
    }
   ],
   "source": [
    "trainer.get_params()"
   ]
  },
  {
   "cell_type": "code",
   "execution_count": 304,
   "metadata": {
    "collapsed": false,
    "deletable": true,
    "editable": true
   },
   "outputs": [
    {
     "name": "stdout",
     "output_type": "stream",
     "text": [
      "c10.05 c20.05 maxit35\n",
      "             precision    recall  f1-score   support\n",
      "\n",
      "      B-LOC     0.8902    0.9129    0.9014      1332\n",
      "      I-LOC     0.8862    0.8583    0.8720       254\n",
      "     B-MISC     0.9063    0.8856    0.8958       699\n",
      "     I-MISC     0.8317    0.8439    0.8378       205\n",
      "      B-ORG     0.8839    0.8219    0.8518      1297\n",
      "      I-ORG     0.8394    0.8000    0.8192       745\n",
      "      B-PER     0.8626    0.8501    0.8563      1241\n",
      "      I-PER     0.8870    0.9626    0.9233       775\n",
      "\n",
      "avg / total     0.8773    0.8688    0.8725      6548\n",
      "\n"
     ]
    }
   ],
   "source": [
    "for c1 in [0.05]:\n",
    "    for c2 in [0.05]:\n",
    "        for max_iterations in [35]:\n",
    "            \n",
    "            trainer.set_params({\n",
    "                'c1': c1,   # coefficient for L1 penalty\n",
    "                'c2': c2,  # coefficient for L2 penalty\n",
    "                'max_iterations': max_iterations,  # stop earlier\n",
    "\n",
    "\n",
    "                # include transitions that are possible, but not observed\n",
    "                'feature.possible_transitions': True,\n",
    "\n",
    "            })\n",
    "            trainer.train('NER')\n",
    "            tagger = pycrfsuite.Tagger()\n",
    "            tagger.open('NER')\n",
    "            y_pred = [tagger.tag(xseq) for xseq in X_test]\n",
    "            print 'c1%s'%c1,'c2%s'%c2,'maxit%s'%max_iterations\n",
    "            print(bio_classification_report(y_test, y_pred))"
   ]
  },
  {
   "cell_type": "code",
   "execution_count": 293,
   "metadata": {
    "collapsed": false,
    "deletable": true,
    "editable": true
   },
   "outputs": [
    {
     "data": {
      "text/plain": [
       "<contextlib.closing at 0x124f4c850>"
      ]
     },
     "execution_count": 293,
     "metadata": {},
     "output_type": "execute_result"
    }
   ],
   "source": [
    "trainer.train('NER')\n",
    "tagger = pycrfsuite.Tagger()\n",
    "tagger.open('NER')"
   ]
  },
  {
   "cell_type": "code",
   "execution_count": 294,
   "metadata": {
    "collapsed": true,
    "deletable": true,
    "editable": true
   },
   "outputs": [],
   "source": [
    "def bio_classification_report(y_true, y_pred):\n",
    "    \"\"\"\n",
    "    Classification report for a list of BIO-encoded sequences.\n",
    "    It computes token-level metrics and discards \"O\" labels.\n",
    "    \n",
    "    Note that it requires scikit-learn 0.15+ (or a version from github master)\n",
    "    to calculate averages properly!\n",
    "    \"\"\"\n",
    "    lb = LabelBinarizer()\n",
    "    y_true_combined = lb.fit_transform(list(chain.from_iterable(y_true)))\n",
    "    y_pred_combined = lb.transform(list(chain.from_iterable(y_pred)))\n",
    "        \n",
    "    tagset = set(lb.classes_) - {'O'}\n",
    "    tagset = sorted(tagset, key=lambda tag: tag.split('-', 1)[::-1])\n",
    "    class_indices = {cls: idx for idx, cls in enumerate(lb.classes_)}\n",
    "    \n",
    "    return classification_report(\n",
    "        y_true_combined,\n",
    "        y_pred_combined,\n",
    "        labels = [class_indices[cls] for cls in tagset],\n",
    "        target_names = tagset,\n",
    "        digits=4\n",
    "    )"
   ]
  },
  {
   "cell_type": "code",
   "execution_count": 295,
   "metadata": {
    "collapsed": false,
    "deletable": true,
    "editable": true
   },
   "outputs": [
    {
     "name": "stdout",
     "output_type": "stream",
     "text": [
      "             precision    recall  f1-score   support\n",
      "\n",
      "      B-LOC     0.8614    0.9054    0.8829      1332\n",
      "      I-LOC     0.9053    0.8661    0.8853       254\n",
      "     B-MISC     0.9140    0.8670    0.8899       699\n",
      "     I-MISC     0.8164    0.8244    0.8204       205\n",
      "      B-ORG     0.8792    0.7911    0.8328      1297\n",
      "      I-ORG     0.8187    0.7879    0.8030       745\n",
      "      B-PER     0.8541    0.8300    0.8418      1241\n",
      "      I-PER     0.8845    0.9587    0.9201       775\n",
      "\n",
      "avg / total     0.8673    0.8532    0.8594      6548\n",
      "\n"
     ]
    }
   ],
   "source": [
    "y_pred = [tagger.tag(xseq) for xseq in X_test]\n",
    "print(bio_classification_report(y_test, y_pred))"
   ]
  },
  {
   "cell_type": "code",
   "execution_count": 10,
   "metadata": {
    "collapsed": true,
    "deletable": true,
    "editable": true
   },
   "outputs": [],
   "source": [
    "# helper function to output the NE results\n",
    "def tagging(begin_index,end_index,tag):\n",
    "    global PER,LOC,ORG,MISC\n",
    "    if tag == 'PER':\n",
    "         PER =  PER+str(begin_index)+'-'+str(end_index)+' '\n",
    "    if tag == 'LOC':\n",
    "        LOC =  LOC+str(begin_index)+'-'+str(end_index)+' '\n",
    "    if tag == 'ORG':\n",
    "        ORG =  ORG+str(begin_index)+'-'+str(end_index)+' '\n",
    "    if tag == 'MISC':\n",
    "        MISC = MISC+str(begin_index)+'-'+str(end_index)+' '"
   ]
  },
  {
   "cell_type": "code",
   "execution_count": 11,
   "metadata": {
    "collapsed": false,
    "deletable": true,
    "editable": true
   },
   "outputs": [],
   "source": [
    "# helper function2 to output the NE results\n",
    "def tagging2(tags,num_line):\n",
    "    begin = False\n",
    "    for i in range(len(tags)):\n",
    "        if tags[i][0]=='B':\n",
    "            begin_index = num_line[i]\n",
    "            if begin == True:\n",
    "                tag = tags[i-1][2:]\n",
    "                end_index = num_line[i-1]\n",
    "                tagging(begin_index,end_index,tag)\n",
    "            begin = True\n",
    "            \n",
    "        if tags[i][0]=='O' and begin==True:\n",
    "                tag = tags[i-1][2:]\n",
    "                end_index = num_line[i-1]\n",
    "                tagging(begin_index,end_index,tag)\n",
    "                begin = False\n",
    "                \n",
    "        if i == len(tags) and begin==True:\n",
    "            tag = tags[i][2:]\n",
    "            end_index = num_line[i]\n",
    "            tagging(begin_index,end_index,tag)"
   ]
  },
  {
   "cell_type": "code",
   "execution_count": 308,
   "metadata": {
    "collapsed": false,
    "deletable": true,
    "editable": true
   },
   "outputs": [
    {
     "data": {
      "text/plain": [
       "<contextlib.closing at 0x124f4c750>"
      ]
     },
     "execution_count": 308,
     "metadata": {},
     "output_type": "execute_result"
    }
   ],
   "source": [
    "txt = 'train.txt'\n",
    "with open(txt, 'r') as file:\n",
    "    data = file.readlines()\n",
    "\n",
    "X_train,y_train = data2features(data)\n",
    "trainer = pycrfsuite.Trainer(verbose=False)\n",
    "for xseq, yseq in zip(X_train, y_train):\n",
    "    trainer.append(xseq, yseq)\n",
    "    \n",
    "trainer.set_params({\n",
    "    'c1': 0.05,   # coefficient for L1 penalty\n",
    "    'c2': 0.05,  # coefficient for L2 penalty\n",
    "    'max_iterations': 35,  # stop earlier\n",
    "\n",
    "    # include transitions that are possible, but not observed\n",
    "    'feature.possible_transitions': True\n",
    "})\n",
    "\n",
    "trainer.train('NER')\n",
    "tagger = pycrfsuite.Tagger()\n",
    "tagger.open('NER')"
   ]
  },
  {
   "cell_type": "code",
   "execution_count": 309,
   "metadata": {
    "collapsed": false,
    "deletable": true,
    "editable": true
   },
   "outputs": [],
   "source": [
    "headers = ['Type','Prediction']\n",
    "rows = []\n",
    "PER = ''\n",
    "LOC = ''\n",
    "ORG = ''\n",
    "MISC = ''\n",
    "\n",
    "txt = 'test.txt'\n",
    "with open(txt, 'r') as file:\n",
    "    data = file.readlines()\n",
    "\n",
    "for i in range(0,len(data),3):\n",
    "        word_line = data[i].split()\n",
    "        pos_line = data[i+1].split()\n",
    "        num_line = data[i+2].split()\n",
    "    \n",
    "        feature = [word2features(word_line,pos_line,i) for i in range(len(word_line))]\n",
    "        tags = tagger.tag(feature)\n",
    "        tagging2(tags,num_line)\n",
    "        \n",
    "\n",
    "\n",
    "rows.append(('PER',PER))\n",
    "rows.append(('LOC',LOC))\n",
    "rows.append(('ORG',ORG))\n",
    "rows.append(('MISC',MISC))\n",
    "               \n",
    "            \n",
    "with open('CRF_2.csv','w') as f:\n",
    "    f_csv = csv.writer(f)\n",
    "    f_csv.writerow(headers)\n",
    "    f_csv.writerows(rows)  "
   ]
  },
  {
   "cell_type": "code",
   "execution_count": null,
   "metadata": {
    "collapsed": true,
    "deletable": true,
    "editable": true
   },
   "outputs": [],
   "source": []
  },
  {
   "cell_type": "code",
   "execution_count": null,
   "metadata": {
    "collapsed": true
   },
   "outputs": [],
   "source": []
  },
  {
   "cell_type": "code",
   "execution_count": null,
   "metadata": {
    "collapsed": true
   },
   "outputs": [],
   "source": []
  }
 ],
 "metadata": {
  "kernelspec": {
   "display_name": "Python 2",
   "language": "python",
   "name": "python2"
  },
  "language_info": {
   "codemirror_mode": {
    "name": "ipython",
    "version": 2
   },
   "file_extension": ".py",
   "mimetype": "text/x-python",
   "name": "python",
   "nbconvert_exporter": "python",
   "pygments_lexer": "ipython2",
   "version": "2.7.13"
  }
 },
 "nbformat": 4,
 "nbformat_minor": 2
}
